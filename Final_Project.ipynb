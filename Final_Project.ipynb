{
 "cells": [
  {
   "cell_type": "code",
   "execution_count": 1,
   "id": "2c2f3d30-c021-44f2-8b46-3fc7270e296c",
   "metadata": {},
   "outputs": [
    {
     "name": "stderr",
     "output_type": "stream",
     "text": [
      "── \u001b[1mAttaching packages\u001b[22m ─────────────────────────────────────── tidyverse 1.3.1 ──\n",
      "\n",
      "\u001b[32m✔\u001b[39m \u001b[34mggplot2\u001b[39m 3.3.6     \u001b[32m✔\u001b[39m \u001b[34mpurrr  \u001b[39m 0.3.4\n",
      "\u001b[32m✔\u001b[39m \u001b[34mtibble \u001b[39m 3.1.8     \u001b[32m✔\u001b[39m \u001b[34mdplyr  \u001b[39m 1.0.9\n",
      "\u001b[32m✔\u001b[39m \u001b[34mtidyr  \u001b[39m 1.2.0     \u001b[32m✔\u001b[39m \u001b[34mstringr\u001b[39m 1.4.0\n",
      "\u001b[32m✔\u001b[39m \u001b[34mreadr  \u001b[39m 2.1.2     \u001b[32m✔\u001b[39m \u001b[34mforcats\u001b[39m 0.5.1\n",
      "\n",
      "Warning message:\n",
      "“package ‘ggplot2’ was built under R version 4.1.3”\n",
      "Warning message:\n",
      "“package ‘tidyr’ was built under R version 4.1.2”\n",
      "Warning message:\n",
      "“package ‘readr’ was built under R version 4.1.2”\n",
      "Warning message:\n",
      "“package ‘dplyr’ was built under R version 4.1.3”\n",
      "── \u001b[1mConflicts\u001b[22m ────────────────────────────────────────── tidyverse_conflicts() ──\n",
      "\u001b[31m✖\u001b[39m \u001b[34mdplyr\u001b[39m::\u001b[32mfilter()\u001b[39m masks \u001b[34mstats\u001b[39m::filter()\n",
      "\u001b[31m✖\u001b[39m \u001b[34mdplyr\u001b[39m::\u001b[32mlag()\u001b[39m    masks \u001b[34mstats\u001b[39m::lag()\n",
      "\n",
      "Warning message:\n",
      "“package ‘tidymodels’ was built under R version 4.1.3”\n",
      "── \u001b[1mAttaching packages\u001b[22m ────────────────────────────────────── tidymodels 1.0.0 ──\n",
      "\n",
      "\u001b[32m✔\u001b[39m \u001b[34mbroom       \u001b[39m 1.0.0     \u001b[32m✔\u001b[39m \u001b[34mrsample     \u001b[39m 1.0.0\n",
      "\u001b[32m✔\u001b[39m \u001b[34mdials       \u001b[39m 1.0.0     \u001b[32m✔\u001b[39m \u001b[34mtune        \u001b[39m 1.0.0\n",
      "\u001b[32m✔\u001b[39m \u001b[34minfer       \u001b[39m 1.0.2     \u001b[32m✔\u001b[39m \u001b[34mworkflows   \u001b[39m 1.0.0\n",
      "\u001b[32m✔\u001b[39m \u001b[34mmodeldata   \u001b[39m 1.0.0     \u001b[32m✔\u001b[39m \u001b[34mworkflowsets\u001b[39m 1.0.0\n",
      "\u001b[32m✔\u001b[39m \u001b[34mparsnip     \u001b[39m 1.0.0     \u001b[32m✔\u001b[39m \u001b[34myardstick   \u001b[39m 1.0.0\n",
      "\u001b[32m✔\u001b[39m \u001b[34mrecipes     \u001b[39m 1.0.1     \n",
      "\n",
      "Warning message:\n",
      "“package ‘broom’ was built under R version 4.1.3”\n",
      "Warning message:\n",
      "“package ‘dials’ was built under R version 4.1.3”\n",
      "Warning message:\n",
      "“package ‘scales’ was built under R version 4.1.3”\n",
      "Warning message:\n",
      "“package ‘infer’ was built under R version 4.1.3”\n",
      "Warning message:\n",
      "“package ‘modeldata’ was built under R version 4.1.3”\n",
      "Warning message:\n",
      "“package ‘parsnip’ was built under R version 4.1.3”\n",
      "Warning message:\n",
      "“package ‘recipes’ was built under R version 4.1.3”\n",
      "Warning message:\n",
      "“package ‘rsample’ was built under R version 4.1.3”\n",
      "Warning message:\n",
      "“package ‘tune’ was built under R version 4.1.3”\n",
      "Warning message:\n",
      "“package ‘workflows’ was built under R version 4.1.3”\n",
      "Warning message:\n",
      "“package ‘workflowsets’ was built under R version 4.1.3”\n",
      "Warning message:\n",
      "“package ‘yardstick’ was built under R version 4.1.3”\n",
      "── \u001b[1mConflicts\u001b[22m ───────────────────────────────────────── tidymodels_conflicts() ──\n",
      "\u001b[31m✖\u001b[39m \u001b[34mscales\u001b[39m::\u001b[32mdiscard()\u001b[39m masks \u001b[34mpurrr\u001b[39m::discard()\n",
      "\u001b[31m✖\u001b[39m \u001b[34mdplyr\u001b[39m::\u001b[32mfilter()\u001b[39m   masks \u001b[34mstats\u001b[39m::filter()\n",
      "\u001b[31m✖\u001b[39m \u001b[34mrecipes\u001b[39m::\u001b[32mfixed()\u001b[39m  masks \u001b[34mstringr\u001b[39m::fixed()\n",
      "\u001b[31m✖\u001b[39m \u001b[34mdplyr\u001b[39m::\u001b[32mlag()\u001b[39m      masks \u001b[34mstats\u001b[39m::lag()\n",
      "\u001b[31m✖\u001b[39m \u001b[34myardstick\u001b[39m::\u001b[32mspec()\u001b[39m masks \u001b[34mreadr\u001b[39m::spec()\n",
      "\u001b[31m✖\u001b[39m \u001b[34mrecipes\u001b[39m::\u001b[32mstep()\u001b[39m   masks \u001b[34mstats\u001b[39m::step()\n",
      "\u001b[34m•\u001b[39m Use suppressPackageStartupMessages() to eliminate package startup messages\n",
      "\n"
     ]
    },
    {
     "ename": "ERROR",
     "evalue": "Error in library(gridExtra): there is no package called ‘gridExtra’\n",
     "output_type": "error",
     "traceback": [
      "Error in library(gridExtra): there is no package called ‘gridExtra’\nTraceback:\n",
      "1. library(gridExtra)"
     ]
    }
   ],
   "source": [
    "#Import the required libraries\n",
    "library(tidyverse)\n",
    "library(repr)\n",
    "library(tidymodels)\n",
    "library(gridExtra)   \n",
    "library(patchwork)"
   ]
  },
  {
   "cell_type": "markdown",
   "id": "6280ea6c-eea5-4e64-8e16-d68df5cca753",
   "metadata": {},
   "source": [
    "### We will use age, trestbps(Blood pressure), and max_heart_rate(Maximum Heart Rate). "
   ]
  },
  {
   "cell_type": "markdown",
   "id": "12bf5bb1-c538-43b0-927b-82a7f58b90bb",
   "metadata": {},
   "source": [
    "In order to predict if there exists a heart disease in a person, we will use three parameters. Age of the person, blood pressure and their maximum heart rate. We believe that a good idea to start to see how these different parameters are related to others, is to plot them against each other. So we created three different graphs to showcase this.\n",
    "\n",
    "// *IF THIS DOESNT WORK OR THERE IS ANOTHER INTRO THEN DELETE* //"
   ]
  },
  {
   "cell_type": "markdown",
   "id": "ac36b46d-b8d3-4dd0-98cc-b3e3e49da022",
   "metadata": {},
   "source": [
    "Code to tidy data set:"
   ]
  },
  {
   "cell_type": "code",
   "execution_count": 2,
   "id": "34f6f4f2-0032-493c-8514-1ba28c4acb58",
   "metadata": {},
   "outputs": [
    {
     "name": "stderr",
     "output_type": "stream",
     "text": [
      "\u001b[1mRows: \u001b[22m\u001b[34m303\u001b[39m \u001b[1mColumns: \u001b[22m\u001b[34m14\u001b[39m\n",
      "\u001b[36m──\u001b[39m \u001b[1mColumn specification\u001b[22m \u001b[36m────────────────────────────────────────────────────────\u001b[39m\n",
      "\u001b[1mDelimiter:\u001b[22m \",\"\n",
      "\u001b[31mchr\u001b[39m  (2): ca, thal\n",
      "\u001b[32mdbl\u001b[39m (12): age, sex, cp, trestbps, chol, fbs, restceg, max_heart_rate, exang,...\n",
      "\n",
      "\u001b[36mℹ\u001b[39m Use `spec()` to retrieve the full column specification for this data.\n",
      "\u001b[36mℹ\u001b[39m Specify the column types or set `show_col_types = FALSE` to quiet this message.\n",
      "Warning message in mask$eval_all_mutate(quo):\n",
      "“NAs introduced by coercion”\n",
      "Warning message in mask$eval_all_mutate(quo):\n",
      "“NAs introduced by coercion”\n"
     ]
    },
    {
     "data": {
      "text/html": [
       "<table class=\"dataframe\">\n",
       "<caption>A tibble: 10 × 14</caption>\n",
       "<thead>\n",
       "\t<tr><th scope=col>age</th><th scope=col>sex</th><th scope=col>cp</th><th scope=col>trestbps</th><th scope=col>chol</th><th scope=col>fbs</th><th scope=col>restceg</th><th scope=col>max_heart_rate</th><th scope=col>exang</th><th scope=col>oldpeak</th><th scope=col>slope</th><th scope=col>ca</th><th scope=col>thal</th><th scope=col>heart_disease</th></tr>\n",
       "\t<tr><th scope=col>&lt;dbl&gt;</th><th scope=col>&lt;dbl&gt;</th><th scope=col>&lt;dbl&gt;</th><th scope=col>&lt;dbl&gt;</th><th scope=col>&lt;dbl&gt;</th><th scope=col>&lt;dbl&gt;</th><th scope=col>&lt;dbl&gt;</th><th scope=col>&lt;dbl&gt;</th><th scope=col>&lt;dbl&gt;</th><th scope=col>&lt;dbl&gt;</th><th scope=col>&lt;dbl&gt;</th><th scope=col>&lt;dbl&gt;</th><th scope=col>&lt;dbl&gt;</th><th scope=col>&lt;fct&gt;</th></tr>\n",
       "</thead>\n",
       "<tbody>\n",
       "\t<tr><td>63</td><td>1</td><td>1</td><td>145</td><td>233</td><td>1</td><td>2</td><td>150</td><td>0</td><td>2.3</td><td>3</td><td>0</td><td>6</td><td>False</td></tr>\n",
       "\t<tr><td>67</td><td>1</td><td>4</td><td>160</td><td>286</td><td>0</td><td>2</td><td>108</td><td>1</td><td>1.5</td><td>2</td><td>3</td><td>3</td><td>True </td></tr>\n",
       "\t<tr><td>67</td><td>1</td><td>4</td><td>120</td><td>229</td><td>0</td><td>2</td><td>129</td><td>1</td><td>2.6</td><td>2</td><td>2</td><td>7</td><td>True </td></tr>\n",
       "\t<tr><td>37</td><td>1</td><td>3</td><td>130</td><td>250</td><td>0</td><td>0</td><td>187</td><td>0</td><td>3.5</td><td>3</td><td>0</td><td>3</td><td>False</td></tr>\n",
       "\t<tr><td>41</td><td>0</td><td>2</td><td>130</td><td>204</td><td>0</td><td>2</td><td>172</td><td>0</td><td>1.4</td><td>1</td><td>0</td><td>3</td><td>False</td></tr>\n",
       "\t<tr><td>56</td><td>1</td><td>2</td><td>120</td><td>236</td><td>0</td><td>0</td><td>178</td><td>0</td><td>0.8</td><td>1</td><td>0</td><td>3</td><td>False</td></tr>\n",
       "\t<tr><td>62</td><td>0</td><td>4</td><td>140</td><td>268</td><td>0</td><td>2</td><td>160</td><td>0</td><td>3.6</td><td>3</td><td>2</td><td>3</td><td>True </td></tr>\n",
       "\t<tr><td>57</td><td>0</td><td>4</td><td>120</td><td>354</td><td>0</td><td>0</td><td>163</td><td>1</td><td>0.6</td><td>1</td><td>0</td><td>3</td><td>False</td></tr>\n",
       "\t<tr><td>63</td><td>1</td><td>4</td><td>130</td><td>254</td><td>0</td><td>2</td><td>147</td><td>0</td><td>1.4</td><td>2</td><td>1</td><td>7</td><td>True </td></tr>\n",
       "\t<tr><td>53</td><td>1</td><td>4</td><td>140</td><td>203</td><td>1</td><td>2</td><td>155</td><td>1</td><td>3.1</td><td>3</td><td>0</td><td>7</td><td>True </td></tr>\n",
       "</tbody>\n",
       "</table>\n"
      ],
      "text/latex": [
       "A tibble: 10 × 14\n",
       "\\begin{tabular}{llllllllllllll}\n",
       " age & sex & cp & trestbps & chol & fbs & restceg & max\\_heart\\_rate & exang & oldpeak & slope & ca & thal & heart\\_disease\\\\\n",
       " <dbl> & <dbl> & <dbl> & <dbl> & <dbl> & <dbl> & <dbl> & <dbl> & <dbl> & <dbl> & <dbl> & <dbl> & <dbl> & <fct>\\\\\n",
       "\\hline\n",
       "\t 63 & 1 & 1 & 145 & 233 & 1 & 2 & 150 & 0 & 2.3 & 3 & 0 & 6 & False\\\\\n",
       "\t 67 & 1 & 4 & 160 & 286 & 0 & 2 & 108 & 1 & 1.5 & 2 & 3 & 3 & True \\\\\n",
       "\t 67 & 1 & 4 & 120 & 229 & 0 & 2 & 129 & 1 & 2.6 & 2 & 2 & 7 & True \\\\\n",
       "\t 37 & 1 & 3 & 130 & 250 & 0 & 0 & 187 & 0 & 3.5 & 3 & 0 & 3 & False\\\\\n",
       "\t 41 & 0 & 2 & 130 & 204 & 0 & 2 & 172 & 0 & 1.4 & 1 & 0 & 3 & False\\\\\n",
       "\t 56 & 1 & 2 & 120 & 236 & 0 & 0 & 178 & 0 & 0.8 & 1 & 0 & 3 & False\\\\\n",
       "\t 62 & 0 & 4 & 140 & 268 & 0 & 2 & 160 & 0 & 3.6 & 3 & 2 & 3 & True \\\\\n",
       "\t 57 & 0 & 4 & 120 & 354 & 0 & 0 & 163 & 1 & 0.6 & 1 & 0 & 3 & False\\\\\n",
       "\t 63 & 1 & 4 & 130 & 254 & 0 & 2 & 147 & 0 & 1.4 & 2 & 1 & 7 & True \\\\\n",
       "\t 53 & 1 & 4 & 140 & 203 & 1 & 2 & 155 & 1 & 3.1 & 3 & 0 & 7 & True \\\\\n",
       "\\end{tabular}\n"
      ],
      "text/markdown": [
       "\n",
       "A tibble: 10 × 14\n",
       "\n",
       "| age &lt;dbl&gt; | sex &lt;dbl&gt; | cp &lt;dbl&gt; | trestbps &lt;dbl&gt; | chol &lt;dbl&gt; | fbs &lt;dbl&gt; | restceg &lt;dbl&gt; | max_heart_rate &lt;dbl&gt; | exang &lt;dbl&gt; | oldpeak &lt;dbl&gt; | slope &lt;dbl&gt; | ca &lt;dbl&gt; | thal &lt;dbl&gt; | heart_disease &lt;fct&gt; |\n",
       "|---|---|---|---|---|---|---|---|---|---|---|---|---|---|\n",
       "| 63 | 1 | 1 | 145 | 233 | 1 | 2 | 150 | 0 | 2.3 | 3 | 0 | 6 | False |\n",
       "| 67 | 1 | 4 | 160 | 286 | 0 | 2 | 108 | 1 | 1.5 | 2 | 3 | 3 | True  |\n",
       "| 67 | 1 | 4 | 120 | 229 | 0 | 2 | 129 | 1 | 2.6 | 2 | 2 | 7 | True  |\n",
       "| 37 | 1 | 3 | 130 | 250 | 0 | 0 | 187 | 0 | 3.5 | 3 | 0 | 3 | False |\n",
       "| 41 | 0 | 2 | 130 | 204 | 0 | 2 | 172 | 0 | 1.4 | 1 | 0 | 3 | False |\n",
       "| 56 | 1 | 2 | 120 | 236 | 0 | 0 | 178 | 0 | 0.8 | 1 | 0 | 3 | False |\n",
       "| 62 | 0 | 4 | 140 | 268 | 0 | 2 | 160 | 0 | 3.6 | 3 | 2 | 3 | True  |\n",
       "| 57 | 0 | 4 | 120 | 354 | 0 | 0 | 163 | 1 | 0.6 | 1 | 0 | 3 | False |\n",
       "| 63 | 1 | 4 | 130 | 254 | 0 | 2 | 147 | 0 | 1.4 | 2 | 1 | 7 | True  |\n",
       "| 53 | 1 | 4 | 140 | 203 | 1 | 2 | 155 | 1 | 3.1 | 3 | 0 | 7 | True  |\n",
       "\n"
      ],
      "text/plain": [
       "   age sex cp trestbps chol fbs restceg max_heart_rate exang oldpeak slope ca\n",
       "1  63  1   1  145      233  1   2       150            0     2.3     3     0 \n",
       "2  67  1   4  160      286  0   2       108            1     1.5     2     3 \n",
       "3  67  1   4  120      229  0   2       129            1     2.6     2     2 \n",
       "4  37  1   3  130      250  0   0       187            0     3.5     3     0 \n",
       "5  41  0   2  130      204  0   2       172            0     1.4     1     0 \n",
       "6  56  1   2  120      236  0   0       178            0     0.8     1     0 \n",
       "7  62  0   4  140      268  0   2       160            0     3.6     3     2 \n",
       "8  57  0   4  120      354  0   0       163            1     0.6     1     0 \n",
       "9  63  1   4  130      254  0   2       147            0     1.4     2     1 \n",
       "10 53  1   4  140      203  1   2       155            1     3.1     3     0 \n",
       "   thal heart_disease\n",
       "1  6    False        \n",
       "2  3    True         \n",
       "3  7    True         \n",
       "4  3    False        \n",
       "5  3    False        \n",
       "6  3    False        \n",
       "7  3    True         \n",
       "8  3    False        \n",
       "9  7    True         \n",
       "10 7    True         "
      ]
     },
     "metadata": {},
     "output_type": "display_data"
    }
   ],
   "source": [
    "url <- \"https://archive.ics.uci.edu/ml/machine-learning-databases/heart-disease/processed.cleveland.data\"\n",
    "colmns_names <- c(\"age\", \"sex\", \"cp\", \"trestbps\", \"chol\", \"fbs\", \"restceg\", \"max_heart_rate\",\n",
    "               \"exang\", \"oldpeak\", \"slope\", \"ca\", \"thal\", \"heart_disease\")\n",
    "\n",
    "\n",
    "heart_data <- read_csv(url, col_names = colmns_names)|>\n",
    "    #Change the data type in the columns to the necessary data type for our classification\n",
    "    mutate(across(c(trestbps, fbs, restceg, max_heart_rate, exang, oldpeak, slope, ca, thal),\n",
    "                as.numeric),\n",
    "          heart_disease = ifelse(heart_disease == \"1\" | heart_disease == \"2\" | \n",
    "                                 heart_disease == \"3\" | heart_disease == \"4\", \"True\", heart_disease),\n",
    "          heart_disease = ifelse(heart_disease == \"0\", \"False\", heart_disease),\n",
    "          heart_disease = as.factor(heart_disease))\n",
    "# Preview the first 10 observations\n",
    "head(heart_data, n=10)"
   ]
  },
  {
   "cell_type": "code",
   "execution_count": 3,
   "id": "0e79ed92-f350-4822-8b1f-2a67238c72cc",
   "metadata": {},
   "outputs": [
    {
     "ename": "ERROR",
     "evalue": "\u001b[1m\u001b[33mError\u001b[39m in \u001b[1m\u001b[1m`ggplot_add()`:\u001b[22m\n\u001b[33m!\u001b[39m Can't add `age_max_heart_rate_plot` to a ggplot object.\n",
     "output_type": "error",
     "traceback": [
      "\u001b[1m\u001b[33mError\u001b[39m in \u001b[1m\u001b[1m`ggplot_add()`:\u001b[22m\n\u001b[33m!\u001b[39m Can't add `age_max_heart_rate_plot` to a ggplot object.\nTraceback:\n",
      "1. `+.gg`(trestbps_max_heart_rate_plot, age_max_heart_rate_plot)",
      "2. add_ggplot(e1, e2, e2name)",
      "3. ggplot_add(object, p, objectname)",
      "4. ggplot_add.default(object, p, objectname)",
      "5. abort(glue(\"Can't add `{object_name}` to a ggplot object.\"))",
      "6. signal_abort(cnd, .file)"
     ]
    }
   ],
   "source": [
    "options(repr.plot.width=22, repr.plot.height=6)\n",
    "\n",
    "\n",
    "age_trestbps_plot <- heart_data |>\n",
    "    ggplot(aes(x = age, y = trestbps)) +\n",
    "        geom_point(aes(color = heart_disease), show.legend = FALSE) +\n",
    "        labs (x = \"Age (years)\", y = \"Resting Blood Pressure\",  title = \"Blood Pressure and Age Graph\")+\n",
    "        theme(text = element_text(size=17))\n",
    "\n",
    "age_max_heart_rate_plot <- heart_data |>\n",
    "    ggplot(aes(x = age, y = max_heart_rate)) +\n",
    "        geom_point(aes(color = heart_disease), show.legend = FALSE) +\n",
    "        labs (x = \"Age (years)\", y = \"Maximum Heart Rate\", title = \"Maximum Heart Rate and Age Graph\")+\n",
    "        theme(text = element_text(size=17))\n",
    "\n",
    "trestbps_max_heart_rate_plot <- heart_data |>\n",
    "    ggplot(aes(x = trestbps, y = max_heart_rate)) +\n",
    "        geom_point(aes(color = heart_disease)) +\n",
    "        labs (x = \"Resting Blood Pressure\", y = \"Maximum Heart Rate\", color = \"Has Heart Disease?\", title = \"Maximum Heart Rate and Blood Pressure\")+\n",
    "        theme(text = element_text(size=17))\n",
    "\n",
    "trestbps_max_heart_rate_plot + age_max_heart_rate_plot + age_trestbps_plot + plot_layout(guides = 'collect')"
   ]
  },
  {
   "cell_type": "markdown",
   "id": "3dfa6893-1032-4fa6-81ec-2a7b43fcb507",
   "metadata": {},
   "source": [
    "We already might be able to find some pattern between these variables but to better make predictions we will use a knn classification algorithm. In order to do that, the first step towards creating this algorithm is to split the data into training and testing data sets. "
   ]
  },
  {
   "cell_type": "code",
   "execution_count": 4,
   "id": "2e0730b6-c830-4171-a417-a72415b3163e",
   "metadata": {},
   "outputs": [],
   "source": [
    "set.seed(1)\n",
    "heart_data <- heart_data |>\n",
    "    select(age, trestbps, max_heart_rate, heart_disease)\n",
    "heart_split <- initial_split(heart_data, prop = 0.75, strata = heart_disease)\n",
    "heart_train <- training(heart_split)\n",
    "heart_test <- testing(heart_split)"
   ]
  },
  {
   "cell_type": "markdown",
   "id": "623965e6-72ea-417e-9d9c-06bfc4e4e3c0",
   "metadata": {},
   "source": [
    "### Performing Classification with $k$-nearest algorithm, k=3\n",
    "\n",
    "* First, we try with $k$=3 "
   ]
  },
  {
   "cell_type": "code",
   "execution_count": 5,
   "id": "e0ea4193-3606-4417-a9dd-1726f1375777",
   "metadata": {},
   "outputs": [
    {
     "ename": "ERROR",
     "evalue": "\u001b[1m\u001b[33mError\u001b[39m in \u001b[1m\u001b[1m`check_installs()`:\u001b[22m\n\u001b[33m!\u001b[39m This engine requires some package installs: 'kknn'\n",
     "output_type": "error",
     "traceback": [
      "\u001b[1m\u001b[33mError\u001b[39m in \u001b[1m\u001b[1m`check_installs()`:\u001b[22m\n\u001b[33m!\u001b[39m This engine requires some package installs: 'kknn'\nTraceback:\n",
      "1. fit(add_model(add_recipe(workflow(), heart_recipe), knn_spec), \n .     data = heart_train)",
      "2. fit.workflow(add_model(add_recipe(workflow(), heart_recipe), \n .     knn_spec), data = heart_train)",
      "3. .fit_model(workflow, control)",
      "4. fit(action_model, workflow = workflow, control = control)",
      "5. fit.action_model(action_model, workflow = workflow, control = control)",
      "6. fit_from_xy(spec, mold, case_weights, control_parsnip)",
      "7. fit_xy(spec, x = mold$predictors, y = mold$outcomes, case_weights = case_weights, \n .     control = control_parsnip)",
      "8. fit_xy.model_spec(spec, x = mold$predictors, y = mold$outcomes, \n .     case_weights = case_weights, control = control_parsnip)",
      "9. check_installs(object)",
      "10. rlang::abort(glue::glue(\"This engine requires some package installs: \", \n  .     glue::glue_collapse(glue::glue(\"'{missing_pkg}'\"), sep = \", \")))",
      "11. signal_abort(cnd, .file)"
     ]
    }
   ],
   "source": [
    "set.seed(10)\n",
    "knn_spec <- nearest_neighbor(weight_func = \"rectangular\", neighbors = 3) |>\n",
    "  set_engine(\"kknn\") |>\n",
    "  set_mode(\"classification\")\n",
    "heart_recipe <- recipe(heart_disease ~ age + trestbps + max_heart_rate, data= heart_train)|>\n",
    "    step_scale(all_predictors())|>\n",
    "    step_center(all_predictors())\n",
    "heart_fit <- workflow()|>\n",
    "    add_recipe(heart_recipe)|>\n",
    "    add_model(knn_spec)|>\n",
    "    fit(data = heart_train)\n",
    "heart_fit\n"
   ]
  },
  {
   "cell_type": "markdown",
   "id": "bbdc3116-3f81-481b-9265-54691534cf4d",
   "metadata": {},
   "source": [
    "#### Now, we perform 10-fold cross-validation to get the best $k$ value possible"
   ]
  },
  {
   "cell_type": "code",
   "execution_count": null,
   "id": "ff1a6654-9ff8-4cfb-b29e-6126e9fb711e",
   "metadata": {},
   "outputs": [],
   "source": [
    "set.seed(100)\n",
    "options(repr.plot.width=15, repr.plot.height=6)\n",
    "\n",
    "heart_vfold <- vfold_cv(heart_train, v = 10, strata = heart_disease)\n",
    "knn_best_spec <- nearest_neighbor(weight_func = \"rectangular\", neighbors = tune()) |>\n",
    "  set_engine(\"kknn\") |>\n",
    "  set_mode(\"classification\")\n",
    "\n",
    "heart_resamples_fit <- workflow()|>\n",
    "    add_recipe(heart_recipe)|>\n",
    "    add_model(knn_best_spec)|>\n",
    "    tune_grid(resamples = heart_vfold, grid=20)|>\n",
    "    collect_metrics()|>\n",
    "    filter(.metric == \"accuracy\")\n",
    "\n",
    "accuracy_v_k_plot <- heart_resamples_fit |>\n",
    "    ggplot(aes(x= neighbors, y= mean))+\n",
    "        geom_point()+\n",
    "        geom_line()+\n",
    "        labs(x= \"K Value\", y= \"Accuracy Estimate\")+\n",
    "        theme(text = element_text(size=20))\n",
    "accuracy_v_k_plot"
   ]
  },
  {
   "cell_type": "markdown",
   "id": "82fb2524-0ad5-4a75-9670-29b92681d4ff",
   "metadata": {},
   "source": [
    "* We observe from the graph above that the best $k$ values are $k=9$ or $k=10$. For this classification, we will chose $k=10$. Now, we perform $k$-nearest neighbors classification with $k=10$. "
   ]
  },
  {
   "cell_type": "code",
   "execution_count": null,
   "id": "c3058035-639a-4c2e-8d17-1d8d26b43b40",
   "metadata": {},
   "outputs": [],
   "source": [
    "knn_spec_10 <- nearest_neighbor(weight_func = \"rectangular\", neighbors = 10) |>\n",
    "  set_engine(\"kknn\") |>\n",
    "  set_mode(\"classification\")\n",
    "\n",
    "heart_best_fit <- workflow()|>  \n",
    "    add_recipe(heart_recipe)|>\n",
    "    add_model(knn_spec_10)|>\n",
    "    fit(data = heart_train)\n",
    "\n",
    "heart_best_fit"
   ]
  },
  {
   "cell_type": "code",
   "execution_count": null,
   "id": "e9e50a6c-daaf-4530-bc3b-013c78232a21",
   "metadata": {},
   "outputs": [],
   "source": [
    "heart_test_predections <- predict(heart_best_fit, heart_test)|>\n",
    "    bind_cols(heart_test)\n",
    "head(heart_test_predections, n=10)"
   ]
  },
  {
   "cell_type": "code",
   "execution_count": null,
   "id": "d31293fa-d5e0-4732-92de-8721531bb7aa",
   "metadata": {},
   "outputs": [],
   "source": [
    "heart_test_accuracy <- heart_test_predections |>\n",
    "    metrics(truth = heart_disease, estimate = .pred_class)\n",
    "heart_test_accuracy"
   ]
  },
  {
   "cell_type": "code",
   "execution_count": null,
   "id": "68f5371f-26d2-4c3d-983a-bba787f7e251",
   "metadata": {},
   "outputs": [],
   "source": [
    "heart_matrix <- heart_test_predections |>\n",
    "    conf_mat(truth = heart_disease, estimate = .pred_class)\n",
    "heart_matrix"
   ]
  },
  {
   "cell_type": "markdown",
   "id": "251ef4dd-2f63-4b69-a7ef-c7f2bdbece03",
   "metadata": {},
   "source": [
    "We have $55$ correctly labelled values."
   ]
  },
  {
   "cell_type": "code",
   "execution_count": null,
   "id": "1ddb0164-3c24-4c6c-9c1f-f6db49062227",
   "metadata": {},
   "outputs": [],
   "source": [
    "wkflw_plot <-\n",
    "  ggplot() +\n",
    "  geom_point(data = heart_data, \n",
    "             mapping = aes(x = age, \n",
    "                           y = max_heart_rate, \n",
    "                           color = heart_disease), \n",
    "             alpha = 0.75) +\n",
    "  geom_point(data = heart_test_predections, \n",
    "             mapping = aes(x = age, \n",
    "                           y = max_heart_rate, \n",
    "                           color = heart_disease), \n",
    "             alpha = 0.02, \n",
    "             size = 5) +\n",
    "  labs(color = \"Diagnosis\", \n",
    "       x = \"Area (standardized)\", \n",
    "       y = \"Smoothness (standardized)\") +\n",
    "  scale_color_manual(labels = c(\"Malignant\", \"Benign\"), \n",
    "                     values = c(\"orange2\", \"steelblue2\")) +\n",
    "  theme(text = element_text(size = 12))\n",
    "\n",
    "\n",
    "\n",
    "wkflw_plot"
   ]
  },
  {
   "cell_type": "markdown",
   "id": "17118e91-fe22-4f97-9f12-086875d4fff1",
   "metadata": {},
   "source": [
    "tried\n"
   ]
  },
  {
   "cell_type": "code",
   "execution_count": null,
   "id": "a5f912a7-7ed2-4f14-9b38-35b28b1615df",
   "metadata": {},
   "outputs": [],
   "source": []
  }
 ],
 "metadata": {
  "kernelspec": {
   "display_name": "R",
   "language": "R",
   "name": "ir"
  },
  "language_info": {
   "codemirror_mode": "r",
   "file_extension": ".r",
   "mimetype": "text/x-r-source",
   "name": "R",
   "pygments_lexer": "r",
   "version": "4.1.1"
  }
 },
 "nbformat": 4,
 "nbformat_minor": 5
}
